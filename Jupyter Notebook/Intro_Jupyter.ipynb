{
 "cells": [
  {
   "cell_type": "markdown",
   "id": "761b48dd-7308-4a3c-80cb-3308acdb787e",
   "metadata": {},
   "source": [
    "## Intro a Jupyter\n",
    "\n",
    "Esta es una introducción a jupyter"
   ]
  },
  {
   "cell_type": "code",
   "execution_count": 2,
   "id": "7a5ad6e6-cb72-4040-91e3-d22fda267ffc",
   "metadata": {},
   "outputs": [
    {
     "data": {
      "text/plain": [
       "5"
      ]
     },
     "execution_count": 2,
     "metadata": {},
     "output_type": "execute_result"
    }
   ],
   "source": [
    "1+4"
   ]
  },
  {
   "cell_type": "code",
   "execution_count": 6,
   "id": "ded63698-39af-4c47-b03e-dfaa3897b520",
   "metadata": {},
   "outputs": [
    {
     "data": {
      "text/plain": [
       "0"
      ]
     },
     "execution_count": 6,
     "metadata": {},
     "output_type": "execute_result"
    }
   ],
   "source": [
    "8-8"
   ]
  },
  {
   "cell_type": "code",
   "execution_count": 2,
   "id": "90488b6b-345c-432a-9f2f-68827eda25d8",
   "metadata": {},
   "outputs": [],
   "source": [
    "x = 9"
   ]
  },
  {
   "cell_type": "code",
   "execution_count": 3,
   "id": "25e09690-cdf4-48a9-927f-0ccafc9cc383",
   "metadata": {},
   "outputs": [
    {
     "data": {
      "text/plain": [
       "12"
      ]
     },
     "execution_count": 3,
     "metadata": {},
     "output_type": "execute_result"
    }
   ],
   "source": [
    "3+x"
   ]
  },
  {
   "cell_type": "code",
   "execution_count": null,
   "id": "1763a6f0-8918-415f-bf71-6334614f8969",
   "metadata": {},
   "outputs": [],
   "source": []
  }
 ],
 "metadata": {
  "kernelspec": {
   "display_name": "Python 3 (ipykernel)",
   "language": "python",
   "name": "python3"
  },
  "language_info": {
   "codemirror_mode": {
    "name": "ipython",
    "version": 3
   },
   "file_extension": ".py",
   "mimetype": "text/x-python",
   "name": "python",
   "nbconvert_exporter": "python",
   "pygments_lexer": "ipython3",
   "version": "3.13.1"
  }
 },
 "nbformat": 4,
 "nbformat_minor": 5
}
