{
 "cells": [
  {
   "cell_type": "code",
   "execution_count": 2,
   "id": "35cb8617-eec7-4595-aa42-1268d4fff50a",
   "metadata": {},
   "outputs": [
    {
     "name": "stdout",
     "output_type": "stream",
     "text": [
      "Números pares hasta 10:\n",
      "0\n",
      "1  (Impar)\n",
      "2\n",
      "3  (Impar)\n",
      "4\n",
      "5  (Impar)\n",
      "6\n",
      "7  (Impar)\n",
      "8\n",
      "9  (Impar)\n",
      "10\n"
     ]
    },
    {
     "data": {
      "text/plain": [
       "'\\nEn esta función, se utiliza un bucle for para recorrer todos los números desde 0 hasta n (incluido).\\nDentro del bucle, se utiliza un condicional if-else para verificar si el número actual es par o impar.\\nSi el número es par (es decir, el resto de la división por 2 es 0), se imprime el número.\\n\\n'"
      ]
     },
     "execution_count": 2,
     "metadata": {},
     "output_type": "execute_result"
    }
   ],
   "source": [
    "# Consideraciones importantes y sintaxis de python\n",
    "\n",
    "# Función con bucle for y condicional if-else\n",
    "\n",
    "def imprimir_numeros_pares_hasta_n(n):\n",
    "    \"\"\"\n",
    "    Imprime todos los números pares desde 0 hasta el número n (incluido).\n",
    "    \"\"\"\n",
    "    for i in range(n+1):\n",
    "        if i % 2 == 0: # Verifica si el numero es par \n",
    "            print(i)\n",
    "        else:\n",
    "            print(f\"{i}  (Impar)\")\n",
    "\n",
    "# Uso de la función\n",
    "\n",
    "limite = 10\n",
    "print(f\"Números pares hasta {limite}:\")\n",
    "imprimir_numeros_pares_hasta_n(limite)\n",
    "\n",
    "\"\"\"\n",
    "En esta función, se utiliza un bucle for para recorrer todos los números desde 0 hasta n (incluido).\n",
    "Dentro del bucle, se utiliza un condicional if-else para verificar si el número actual es par o impar.\n",
    "Si el número es par (es decir, el resto de la división por 2 es 0), se imprime el número.\n",
    "\n",
    "\"\"\""
   ]
  },
  {
   "cell_type": "code",
   "execution_count": null,
   "id": "a517d942-54b7-41c3-8f0d-5b42837509ef",
   "metadata": {},
   "outputs": [],
   "source": []
  }
 ],
 "metadata": {
  "kernelspec": {
   "display_name": "Python 3 (ipykernel)",
   "language": "python",
   "name": "python3"
  },
  "language_info": {
   "codemirror_mode": {
    "name": "ipython",
    "version": 3
   },
   "file_extension": ".py",
   "mimetype": "text/x-python",
   "name": "python",
   "nbconvert_exporter": "python",
   "pygments_lexer": "ipython3",
   "version": "3.13.1"
  }
 },
 "nbformat": 4,
 "nbformat_minor": 5
}
