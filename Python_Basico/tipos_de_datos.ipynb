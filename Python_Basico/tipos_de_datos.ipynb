{
 "cells": [
  {
   "cell_type": "markdown",
   "id": "eb5565ce-f73d-4814-855d-ff7624f48fd9",
   "metadata": {},
   "source": [
    "## Datos Escalares"
   ]
  },
  {
   "cell_type": "code",
   "execution_count": 1,
   "id": "ba10d488-9809-4203-bbd9-3910497fbc82",
   "metadata": {},
   "outputs": [],
   "source": [
    "x = 5"
   ]
  },
  {
   "cell_type": "code",
   "execution_count": 3,
   "id": "573a2c56-c4d6-4075-8bd0-2bd63833eaec",
   "metadata": {},
   "outputs": [
    {
     "data": {
      "text/plain": [
       "int"
      ]
     },
     "execution_count": 3,
     "metadata": {},
     "output_type": "execute_result"
    }
   ],
   "source": [
    "type(x)"
   ]
  },
  {
   "cell_type": "code",
   "execution_count": 4,
   "id": "640c406c-64cb-4440-a3f1-ce3fd5839c5d",
   "metadata": {},
   "outputs": [],
   "source": [
    "y = 5.0"
   ]
  },
  {
   "cell_type": "code",
   "execution_count": 5,
   "id": "1d3a5197-7e71-460b-8b01-9284583a4a87",
   "metadata": {},
   "outputs": [
    {
     "data": {
      "text/plain": [
       "float"
      ]
     },
     "execution_count": 5,
     "metadata": {},
     "output_type": "execute_result"
    }
   ],
   "source": [
    "type(y)"
   ]
  },
  {
   "cell_type": "code",
   "execution_count": 6,
   "id": "5813e2fb-e012-4e4e-b21f-a25cc72ef8f1",
   "metadata": {},
   "outputs": [
    {
     "data": {
      "text/plain": [
       "10.0"
      ]
     },
     "execution_count": 6,
     "metadata": {},
     "output_type": "execute_result"
    }
   ],
   "source": [
    "x + y "
   ]
  },
  {
   "cell_type": "code",
   "execution_count": 11,
   "id": "c22e952c-eee2-4f11-b2b6-6d5f7960723b",
   "metadata": {},
   "outputs": [],
   "source": [
    "es_verdadero = True "
   ]
  },
  {
   "cell_type": "code",
   "execution_count": 12,
   "id": "a16fb7bb-cede-40d1-8f7a-5bfa712b1c1b",
   "metadata": {},
   "outputs": [
    {
     "data": {
      "text/plain": [
       "True"
      ]
     },
     "execution_count": 12,
     "metadata": {},
     "output_type": "execute_result"
    }
   ],
   "source": [
    "es_verdadero"
   ]
  },
  {
   "cell_type": "code",
   "execution_count": 13,
   "id": "7a29e364-19b4-4a89-8267-1a0cfa8ec1c6",
   "metadata": {},
   "outputs": [],
   "source": [
    "es_falso = False"
   ]
  },
  {
   "cell_type": "code",
   "execution_count": 14,
   "id": "444102b6-1a38-4e42-a765-2cb5c500162e",
   "metadata": {},
   "outputs": [
    {
     "data": {
      "text/plain": [
       "False"
      ]
     },
     "execution_count": 14,
     "metadata": {},
     "output_type": "execute_result"
    }
   ],
   "source": [
    "es_falso"
   ]
  },
  {
   "cell_type": "code",
   "execution_count": 15,
   "id": "ae826001-f947-45d2-8d24-22e0173d40a8",
   "metadata": {},
   "outputs": [
    {
     "data": {
      "text/plain": [
       "bool"
      ]
     },
     "execution_count": 15,
     "metadata": {},
     "output_type": "execute_result"
    }
   ],
   "source": [
    "type(es_verdadero)"
   ]
  },
  {
   "cell_type": "code",
   "execution_count": 16,
   "id": "0f4c20a5-2318-417d-8821-7458fcb70d7a",
   "metadata": {},
   "outputs": [],
   "source": [
    "saludo = \"Buenassss\""
   ]
  },
  {
   "cell_type": "code",
   "execution_count": 17,
   "id": "defcf4b9-53c0-4d40-8d2e-362692c813eb",
   "metadata": {},
   "outputs": [
    {
     "data": {
      "text/plain": [
       "str"
      ]
     },
     "execution_count": 17,
     "metadata": {},
     "output_type": "execute_result"
    }
   ],
   "source": [
    "type(saludo)"
   ]
  },
  {
   "cell_type": "code",
   "execution_count": 18,
   "id": "4171f2af-2894-46fc-898a-ddaa09513a47",
   "metadata": {},
   "outputs": [],
   "source": [
    "z = 2+3j"
   ]
  },
  {
   "cell_type": "code",
   "execution_count": 19,
   "id": "3e77ffd7-cea8-4715-9762-dc5cf55dd0e1",
   "metadata": {},
   "outputs": [
    {
     "data": {
      "text/plain": [
       "complex"
      ]
     },
     "execution_count": 19,
     "metadata": {},
     "output_type": "execute_result"
    }
   ],
   "source": [
    "type(z)"
   ]
  },
  {
   "cell_type": "code",
   "execution_count": 20,
   "id": "1ff94597-ab2a-4587-98d9-296c864f222a",
   "metadata": {},
   "outputs": [],
   "source": [
    "a = '6'"
   ]
  },
  {
   "cell_type": "code",
   "execution_count": 21,
   "id": "efec527a-0630-4f38-a2c5-695a3cedea7b",
   "metadata": {},
   "outputs": [
    {
     "data": {
      "text/plain": [
       "str"
      ]
     },
     "execution_count": 21,
     "metadata": {},
     "output_type": "execute_result"
    }
   ],
   "source": [
    "type(a)"
   ]
  },
  {
   "cell_type": "code",
   "execution_count": 22,
   "id": "40fc5e6b-9e82-43cb-8e34-f1041a9472d9",
   "metadata": {},
   "outputs": [],
   "source": [
    "b = int (a)"
   ]
  },
  {
   "cell_type": "code",
   "execution_count": 23,
   "id": "c3b3df2d-0f4a-4865-8ddd-9a2f2c6bf43c",
   "metadata": {},
   "outputs": [
    {
     "data": {
      "text/plain": [
       "int"
      ]
     },
     "execution_count": 23,
     "metadata": {},
     "output_type": "execute_result"
    }
   ],
   "source": [
    "type(b)"
   ]
  },
  {
   "cell_type": "code",
   "execution_count": null,
   "id": "f5696c14-32b7-4b84-baa8-a2a5f1f43847",
   "metadata": {},
   "outputs": [],
   "source": []
  }
 ],
 "metadata": {
  "kernelspec": {
   "display_name": "Python 3 (ipykernel)",
   "language": "python",
   "name": "python3"
  },
  "language_info": {
   "codemirror_mode": {
    "name": "ipython",
    "version": 3
   },
   "file_extension": ".py",
   "mimetype": "text/x-python",
   "name": "python",
   "nbconvert_exporter": "python",
   "pygments_lexer": "ipython3",
   "version": "3.13.1"
  }
 },
 "nbformat": 4,
 "nbformat_minor": 5
}
