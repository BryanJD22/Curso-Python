{
 "cells": [
  {
   "cell_type": "markdown",
   "id": "2fef758c-e9ee-4bf9-bea3-5597cb63267d",
   "metadata": {},
   "source": [
    "## Operadores de calculo y comparación"
   ]
  },
  {
   "cell_type": "code",
   "execution_count": 1,
   "id": "834ce0ad-b59a-4569-99d0-41c2d252fab6",
   "metadata": {},
   "outputs": [
    {
     "data": {
      "text/plain": [
       "7"
      ]
     },
     "execution_count": 1,
     "metadata": {},
     "output_type": "execute_result"
    }
   ],
   "source": [
    "3+4"
   ]
  },
  {
   "cell_type": "code",
   "execution_count": 2,
   "id": "36eb5ad9-b2ec-4ee8-b8ed-d075aef1bf80",
   "metadata": {},
   "outputs": [
    {
     "data": {
      "text/plain": [
       "-4"
      ]
     },
     "execution_count": 2,
     "metadata": {},
     "output_type": "execute_result"
    }
   ],
   "source": [
    "5-9"
   ]
  },
  {
   "cell_type": "code",
   "execution_count": 3,
   "id": "47b30610-0e64-40d4-b0d4-7b3be0e8f0d2",
   "metadata": {},
   "outputs": [
    {
     "data": {
      "text/plain": [
       "28"
      ]
     },
     "execution_count": 3,
     "metadata": {},
     "output_type": "execute_result"
    }
   ],
   "source": [
    "4*7"
   ]
  },
  {
   "cell_type": "code",
   "execution_count": 4,
   "id": "740c7a4e-d99f-46ab-9968-052ffbaf214b",
   "metadata": {},
   "outputs": [
    {
     "data": {
      "text/plain": [
       "11.2"
      ]
     },
     "execution_count": 4,
     "metadata": {},
     "output_type": "execute_result"
    }
   ],
   "source": [
    "56/5"
   ]
  },
  {
   "cell_type": "code",
   "execution_count": 10,
   "id": "1b8178a7-f125-49bc-90c4-22be956da1d5",
   "metadata": {},
   "outputs": [
    {
     "data": {
      "text/plain": [
       "5"
      ]
     },
     "execution_count": 10,
     "metadata": {},
     "output_type": "execute_result"
    }
   ],
   "source": [
    "59//11 ##Redondea la respuesta"
   ]
  },
  {
   "cell_type": "code",
   "execution_count": 11,
   "id": "64de523c-bd11-43ef-b1a4-eb4e28ed4d1a",
   "metadata": {},
   "outputs": [
    {
     "data": {
      "text/plain": [
       "0"
      ]
     },
     "execution_count": 11,
     "metadata": {},
     "output_type": "execute_result"
    }
   ],
   "source": [
    "12 % 3 ##calcula el resto de la division"
   ]
  },
  {
   "cell_type": "code",
   "execution_count": 12,
   "id": "774a6e5a-25ae-44e9-9eac-fe3ff7152c7c",
   "metadata": {},
   "outputs": [
    {
     "data": {
      "text/plain": [
       "9"
      ]
     },
     "execution_count": 12,
     "metadata": {},
     "output_type": "execute_result"
    }
   ],
   "source": [
    "3**2 ## Potencia"
   ]
  },
  {
   "cell_type": "code",
   "execution_count": 13,
   "id": "c810e472-43e8-4dc6-846f-c76efd712f03",
   "metadata": {},
   "outputs": [
    {
     "data": {
      "text/plain": [
       "64"
      ]
     },
     "execution_count": 13,
     "metadata": {},
     "output_type": "execute_result"
    }
   ],
   "source": [
    "4**3"
   ]
  },
  {
   "cell_type": "markdown",
   "id": "f40c40cc-c6d7-4441-98c4-2f4539b5ac45",
   "metadata": {},
   "source": [
    "## Operadores de comparación"
   ]
  },
  {
   "cell_type": "code",
   "execution_count": 14,
   "id": "9f86f12e-096a-439d-909b-a6b39834dea2",
   "metadata": {},
   "outputs": [
    {
     "data": {
      "text/plain": [
       "True"
      ]
     },
     "execution_count": 14,
     "metadata": {},
     "output_type": "execute_result"
    }
   ],
   "source": [
    "5==5"
   ]
  },
  {
   "cell_type": "code",
   "execution_count": 15,
   "id": "d50937d8-ca45-492c-a06f-cd4c740633da",
   "metadata": {},
   "outputs": [
    {
     "data": {
      "text/plain": [
       "False"
      ]
     },
     "execution_count": 15,
     "metadata": {},
     "output_type": "execute_result"
    }
   ],
   "source": [
    "5!=5"
   ]
  },
  {
   "cell_type": "code",
   "execution_count": 16,
   "id": "03b779ea-97d6-4a0d-aa92-4e65a2a40114",
   "metadata": {},
   "outputs": [
    {
     "data": {
      "text/plain": [
       "True"
      ]
     },
     "execution_count": 16,
     "metadata": {},
     "output_type": "execute_result"
    }
   ],
   "source": [
    "3<5"
   ]
  },
  {
   "cell_type": "code",
   "execution_count": 17,
   "id": "7c551e00-3645-497c-a6a7-78279648077b",
   "metadata": {},
   "outputs": [
    {
     "data": {
      "text/plain": [
       "False"
      ]
     },
     "execution_count": 17,
     "metadata": {},
     "output_type": "execute_result"
    }
   ],
   "source": [
    "3>5"
   ]
  },
  {
   "cell_type": "code",
   "execution_count": 18,
   "id": "d2851674-015b-4055-b3cd-3b735a1b1e92",
   "metadata": {},
   "outputs": [
    {
     "data": {
      "text/plain": [
       "True"
      ]
     },
     "execution_count": 18,
     "metadata": {},
     "output_type": "execute_result"
    }
   ],
   "source": [
    "3<=3"
   ]
  },
  {
   "cell_type": "code",
   "execution_count": 19,
   "id": "844a83e4-d400-415f-a75c-598fe2330b5d",
   "metadata": {},
   "outputs": [
    {
     "data": {
      "text/plain": [
       "True"
      ]
     },
     "execution_count": 19,
     "metadata": {},
     "output_type": "execute_result"
    }
   ],
   "source": [
    "3<=5"
   ]
  },
  {
   "cell_type": "code",
   "execution_count": 20,
   "id": "f654702e-c21d-47da-a887-35651106f438",
   "metadata": {},
   "outputs": [
    {
     "data": {
      "text/plain": [
       "False"
      ]
     },
     "execution_count": 20,
     "metadata": {},
     "output_type": "execute_result"
    }
   ],
   "source": [
    "3>=6"
   ]
  },
  {
   "cell_type": "code",
   "execution_count": 21,
   "id": "b905d360-a6b2-45b8-811b-1483f41d8b4d",
   "metadata": {},
   "outputs": [],
   "source": [
    "x = 6+7"
   ]
  },
  {
   "cell_type": "code",
   "execution_count": 24,
   "id": "f70140ce-eb30-46d0-91f2-d5dcba76a03a",
   "metadata": {},
   "outputs": [
    {
     "data": {
      "text/plain": [
       "13"
      ]
     },
     "execution_count": 24,
     "metadata": {},
     "output_type": "execute_result"
    }
   ],
   "source": [
    "x"
   ]
  },
  {
   "cell_type": "code",
   "execution_count": null,
   "id": "dd2f9196-ede3-4975-9081-4ed1ce99d2b2",
   "metadata": {},
   "outputs": [],
   "source": []
  }
 ],
 "metadata": {
  "kernelspec": {
   "display_name": "Python 3 (ipykernel)",
   "language": "python",
   "name": "python3"
  },
  "language_info": {
   "codemirror_mode": {
    "name": "ipython",
    "version": 3
   },
   "file_extension": ".py",
   "mimetype": "text/x-python",
   "name": "python",
   "nbconvert_exporter": "python",
   "pygments_lexer": "ipython3",
   "version": "3.13.1"
  }
 },
 "nbformat": 4,
 "nbformat_minor": 5
}
